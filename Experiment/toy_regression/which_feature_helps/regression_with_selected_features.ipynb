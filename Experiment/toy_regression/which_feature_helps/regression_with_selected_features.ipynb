{
 "cells": [
  {
   "attachments": {},
   "cell_type": "markdown",
   "metadata": {},
   "source": [
    "# Which feature helps age prediction?\n",
    "\n",
    "After the toy experiment in `../is_age_predictable/toy_regression_svm_rf_mlp.py`, \n",
    "we want to know which feature contributes to age prediction. \n",
    "In particular, we want to know which DTI scalar to use for future design.\n",
    "\n",
    "Author: Chenyu Gao\n",
    "\n",
    "Date: Jul 3, 2023"
   ]
  },
  {
   "cell_type": "code",
   "execution_count": 1,
   "metadata": {},
   "outputs": [],
   "source": [
    "from functions import *\n",
    "from sklearn.ensemble import RandomForestRegressor\n",
    "from sklearn.neural_network import MLPRegressor\n",
    "from sklearn.model_selection import train_test_split, cross_val_score\n",
    "from sklearn.metrics import mean_absolute_error\n",
    "from tqdm import tqdm\n",
    "import numpy as np\n",
    "import multiprocessing\n",
    "import warnings\n",
    "\n",
    "random_seed = 0\n",
    "warnings.filterwarnings('ignore')"
   ]
  },
  {
   "attachments": {},
   "cell_type": "markdown",
   "metadata": {},
   "source": [
    "### Test Experiment\n",
    "\n",
    "First, perform some sanity check of the code."
   ]
  },
  {
   "cell_type": "code",
   "execution_count": 2,
   "metadata": {},
   "outputs": [
    {
     "name": "stdout",
     "output_type": "stream",
     "text": [
      "Random Forest\n",
      "MAE (cross validation): [5.41105155 5.22090515 5.38831959 5.20710744 5.1403905 ]\n",
      "MAE (testing): 4.918329999999997\n",
      "MLP\n",
      "MAE (cross validation): [5.7568732  6.22060007 5.76138283 5.66925726 5.61275005]\n",
      "MAE (testing): 5.328636982908498\n"
     ]
    }
   ],
   "source": [
    "# Load data\n",
    "df = prepare_dataframe(atlas=['EveType3'], DTI_scalar=['FA'], value=['mean'], volume=False)\n",
    "df_encoded = pd.get_dummies(df, columns=['Sex'], drop_first=True)\n",
    "X = df_encoded.drop(['Session','Age'], axis=1)\n",
    "y = df_encoded['Age']\n",
    "\n",
    "# Split the data into training and testing sets\n",
    "X_train, X_test, y_train, y_test = train_test_split(X, y, test_size=300, random_state=random_seed)\n",
    "    \n",
    "# Random Forest regression model\n",
    "rf_model = RandomForestRegressor(n_estimators=100, random_state=random_seed)\n",
    "rf_scores = -cross_val_score(rf_model, X_train, y_train, cv=5, scoring='neg_mean_absolute_error')\n",
    "\n",
    "rf_model.fit(X_train, y_train)\n",
    "rf_predictions = rf_model.predict(X_test)\n",
    "rf_mae = mean_absolute_error(y_test, rf_predictions)\n",
    "    \n",
    "# Fully Connected Neural Network regression model (MLP)\n",
    "mlp_model = MLPRegressor(hidden_layer_sizes=(100,100), max_iter=5000, random_state=random_seed)\n",
    "mlp_scores = -cross_val_score(mlp_model, X_train, y_train, cv=5, scoring='neg_mean_absolute_error')\n",
    "\n",
    "mlp_model.fit(X_train, y_train)\n",
    "mlp_predictions = mlp_model.predict(X_test)\n",
    "mlp_mae = mean_absolute_error(y_test, mlp_predictions)\n",
    "\n",
    "print('Random Forest\\nMAE (cross validation): {}\\nMAE (testing): {}'.format(rf_scores,rf_mae))\n",
    "print('MLP\\nMAE (cross validation): {}\\nMAE (testing): {}'.format(mlp_scores,mlp_mae))"
   ]
  },
  {
   "attachments": {},
   "cell_type": "markdown",
   "metadata": {},
   "source": [
    "### Combination of features\n",
    "\n",
    "Try different input feature combinations, and see which results in better prediction.\n",
    "\n",
    "The blocks of code have been moved to script: `combination_of_features_parallel.py`"
   ]
  }
 ],
 "metadata": {
  "kernelspec": {
   "display_name": "deeplearning",
   "language": "python",
   "name": "python3"
  },
  "language_info": {
   "codemirror_mode": {
    "name": "ipython",
    "version": 3
   },
   "file_extension": ".py",
   "mimetype": "text/x-python",
   "name": "python",
   "nbconvert_exporter": "python",
   "pygments_lexer": "ipython3",
   "version": "3.11.3"
  },
  "orig_nbformat": 4
 },
 "nbformat": 4,
 "nbformat_minor": 2
}
