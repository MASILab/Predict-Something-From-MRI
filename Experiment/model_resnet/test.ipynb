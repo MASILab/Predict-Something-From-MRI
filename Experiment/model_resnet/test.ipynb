{
 "cells": [
  {
   "cell_type": "code",
   "execution_count": null,
   "metadata": {},
   "outputs": [],
   "source": [
    "import torch\n",
    "from torch.utils.data import Dataset, DataLoader\n",
    "import torch.nn as nn\n",
    "import torch.optim as optim\n",
    "from monai.transforms import Compose, LoadImaged, AddChanneld, ToTensord, EnsureChannelFirstd, ResizeD\n",
    "import pandas as pd\n",
    "import numpy as np\n",
    "import random\n",
    "from pathlib import Path\n",
    "\n",
    "class AgePredictionDataset(Dataset):\n",
    "    def __init__(self, df):\n",
    "        self.df = df\n",
    "        self.subjects = df['Subject'].unique()\n",
    "\n",
    "    def __len__(self):\n",
    "        return len(self.subjects)\n",
    "\n",
    "    def __getitem__(self, idx):\n",
    "        subject = self.subjects[idx]\n",
    "        df_subject = self.df[self.df['Subject'] == subject]\n",
    "\n",
    "        # select a random sample from this subject\n",
    "        sample = df_subject.sample(n=1, random_state=np.random.randint(0,100))\n",
    "        \n",
    "        dir = Path(sample['dir'].values[0])\n",
    "        img_fa = dir / 'dwmri%fa_brain_MNI152_linear.nii.gz'\n",
    "        img_md = dir / 'dwmri%md_brain_MNI152_linear.nii.gz'\n",
    "        dict_sex2numeric = {'female':0, 'male':1}\n",
    "        sex = torch.tensor(dict_sex2numeric[sample['Sex'].values[0]], dtype=torch.float32)\n",
    "        age = torch.tensor(sample['Age'].values[0], dtype=torch.float32)\n",
    "\n",
    "        # Transform\n",
    "        transform = Compose([\n",
    "            LoadImaged(keys=['fa', 'md'], image_only=True),\n",
    "            EnsureChannelFirstd(keys=['fa', 'md']),\n",
    "            ResizeD(keys=['fa', 'md'], spatial_size=(128, 128, 128), mode='area'),\n",
    "            ToTensord(keys=['fa', 'md'])\n",
    "        ])\n",
    "        data_dict = {'fa': img_fa, 'md': img_md}\n",
    "        data_dict = transform(data_dict)\n",
    "        \n",
    "        return data_dict['fa'], data_dict['md'], sex, age\n"
   ]
  },
  {
   "cell_type": "code",
   "execution_count": null,
   "metadata": {},
   "outputs": [],
   "source": [
    "df_train = pd.read_csv('./data/train.csv')\n",
    "dataset = AgePredictionDataset(df_train)\n",
    "dataloader = DataLoader(dataset, batch_size=8, shuffle=True)\n",
    "for fa, md, sex, age in dataloader:\n",
    "    break\n",
    "print(\"fa: {}\\nmd: {}\\nsex: {}\\nage: {}\".format(fa.shape, md.shape, sex.shape, age.shape))"
   ]
  },
  {
   "cell_type": "code",
   "execution_count": null,
   "metadata": {},
   "outputs": [],
   "source": [
    "age.view(-1,1).shape"
   ]
  },
  {
   "cell_type": "code",
   "execution_count": null,
   "metadata": {},
   "outputs": [],
   "source": [
    "import matplotlib.pyplot as plt\n",
    "\n",
    "fig, axes = plt.subplots(2, 3, figsize=(12, 8))\n",
    "axes[0,0].imshow(fa[0,0,round(fa.shape[2]/2),:,:], cmap='gray', origin='lower', interpolation='nearest')\n",
    "axes[0,1].imshow(fa[0,0,:,round(fa.shape[3]/2),:], cmap='gray', origin='lower', interpolation='nearest')\n",
    "axes[0,2].imshow(fa[0,0,:,:,round(fa.shape[4]/2)], cmap='gray', origin='lower', interpolation='nearest')\n",
    "\n",
    "axes[1,0].imshow(md[0,0,round(fa.shape[2]/2),:,:], cmap='gray', origin='lower', interpolation='nearest')\n",
    "axes[1,1].imshow(md[0,0,:,round(fa.shape[3]/2),:], cmap='gray', origin='lower', interpolation='nearest')\n",
    "axes[1,2].imshow(md[0,0,:,:,round(fa.shape[4]/2)], cmap='gray', origin='lower', interpolation='nearest')"
   ]
  },
  {
   "cell_type": "code",
   "execution_count": null,
   "metadata": {},
   "outputs": [],
   "source": [
    "import pandas as pd\n",
    "\n",
    "df = pd.read_csv('/nfs/masi/gaoc11/projects/Predict-Something-From-MRI/Experiment/model_resnet/data/model_evaluation/resnet10_MLP_64/fold-1/resnet10_MLP_64_fold-1_prediction_validation.csv')\n",
    "df.loc[df.groupby('Subject')['Age'].idxmin()]"
   ]
  }
 ],
 "metadata": {
  "kernelspec": {
   "display_name": "deeplearning",
   "language": "python",
   "name": "python3"
  },
  "language_info": {
   "codemirror_mode": {
    "name": "ipython",
    "version": 3
   },
   "file_extension": ".py",
   "mimetype": "text/x-python",
   "name": "python",
   "nbconvert_exporter": "python",
   "pygments_lexer": "ipython3",
   "version": "3.11.3"
  },
  "orig_nbformat": 4
 },
 "nbformat": 4,
 "nbformat_minor": 2
}
